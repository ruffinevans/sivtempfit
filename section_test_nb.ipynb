{
 "cells": [
  {
   "cell_type": "code",
   "execution_count": 35,
   "metadata": {
    "collapsed": false
   },
   "outputs": [],
   "source": [
    "%matplotlib inline\n",
    "import sivtempfit.dataprocessing as dp\n",
    "import sivtempfit.io as io\n",
    "import pandas as pd\n",
    "import json"
   ]
  },
  {
   "cell_type": "code",
   "execution_count": 2,
   "metadata": {
    "collapsed": true
   },
   "outputs": [],
   "source": [
    "test_dict = {\"T\": 300, \"Name\": \"Test Data\"}"
   ]
  },
  {
   "cell_type": "code",
   "execution_count": 3,
   "metadata": {
    "collapsed": false
   },
   "outputs": [],
   "source": [
    "test_DataFrame = pd.DataFrame({ 'wavelength': [730.7841, 730.7931, 730.8021],\n",
    "                              'V': [1500, 2500, 2000]})"
   ]
  },
  {
   "cell_type": "code",
   "execution_count": 4,
   "metadata": {
    "collapsed": false
   },
   "outputs": [
    {
     "name": "stdout",
     "output_type": "stream",
     "text": [
      "<bound method Printable.__repr__ of Spectrum(data=      V  wavelength\n",
      "0  1500    730.7841\n",
      "1  2500    730.7931\n",
      "2  2000    730.8021, metadata={'Name': 'Test Data', 'T': 300})>\n"
     ]
    }
   ],
   "source": [
    "test_Spectrum = dp.Spectrum(test_DataFrame, test_dict)\n",
    "print(test_Spectrum.__repr__)"
   ]
  },
  {
   "cell_type": "code",
   "execution_count": 5,
   "metadata": {
    "collapsed": false
   },
   "outputs": [
    {
     "name": "stdout",
     "output_type": "stream",
     "text": [
      "Spectrum(data=      V  wavelength\n",
      "0  1500    730.7841\n",
      "1  2500    730.7931\n",
      "2  2000    730.8021, metadata={'Name': 'Test Data', 'T': 300})\n"
     ]
    }
   ],
   "source": [
    "print(test_Spectrum)"
   ]
  },
  {
   "cell_type": "code",
   "execution_count": 6,
   "metadata": {
    "collapsed": false
   },
   "outputs": [
    {
     "data": {
      "text/plain": [
       "'{\"V\":{\"0\":1500,\"1\":2500,\"2\":2000},\"wavelength\":{\"0\":730.7841,\"1\":730.7931,\"2\":730.8021}}'"
      ]
     },
     "execution_count": 6,
     "metadata": {},
     "output_type": "execute_result"
    }
   ],
   "source": [
    "test_Spectrum.data.to_json()"
   ]
  },
  {
   "cell_type": "code",
   "execution_count": 7,
   "metadata": {
    "collapsed": false
   },
   "outputs": [
    {
     "data": {
      "text/plain": [
       "'{\"Name\": \"Test Data\", \"T\": 300, \"Spectrum\": {\"V\":{\"0\":1500,\"1\":2500,\"2\":2000},\"wavelength\":{\"0\":730.7841,\"1\":730.7931,\"2\":730.8021}}}'"
      ]
     },
     "execution_count": 7,
     "metadata": {},
     "output_type": "execute_result"
    }
   ],
   "source": [
    "test_Spectrum.to_json()"
   ]
  },
  {
   "cell_type": "code",
   "execution_count": 8,
   "metadata": {
    "collapsed": false
   },
   "outputs": [
    {
     "data": {
      "text/plain": [
       "True"
      ]
     },
     "execution_count": 8,
     "metadata": {},
     "output_type": "execute_result"
    }
   ],
   "source": [
    "json.loads(json.dumps(json.loads(test_Spectrum.to_json()))) == json.loads(test_Spectrum.to_json())"
   ]
  },
  {
   "cell_type": "code",
   "execution_count": 9,
   "metadata": {
    "collapsed": true
   },
   "outputs": [],
   "source": [
    "test_Spectrum.write_json(\"test.json\")"
   ]
  },
  {
   "cell_type": "code",
   "execution_count": 10,
   "metadata": {
    "collapsed": false
   },
   "outputs": [
    {
     "data": {
      "text/html": [
       "<div>\n",
       "<table border=\"1\" class=\"dataframe\">\n",
       "  <thead>\n",
       "    <tr style=\"text-align: right;\">\n",
       "      <th></th>\n",
       "      <th>V</th>\n",
       "      <th>wavelength</th>\n",
       "    </tr>\n",
       "  </thead>\n",
       "  <tbody>\n",
       "    <tr>\n",
       "      <th>0</th>\n",
       "      <td>1500</td>\n",
       "      <td>730.7841</td>\n",
       "    </tr>\n",
       "    <tr>\n",
       "      <th>1</th>\n",
       "      <td>2500</td>\n",
       "      <td>730.7931</td>\n",
       "    </tr>\n",
       "    <tr>\n",
       "      <th>2</th>\n",
       "      <td>2000</td>\n",
       "      <td>730.8021</td>\n",
       "    </tr>\n",
       "  </tbody>\n",
       "</table>\n",
       "</div>"
      ],
      "text/plain": [
       "      V  wavelength\n",
       "0  1500    730.7841\n",
       "1  2500    730.7931\n",
       "2  2000    730.8021"
      ]
     },
     "execution_count": 10,
     "metadata": {},
     "output_type": "execute_result"
    }
   ],
   "source": [
    "f = open(\"test.json\", 'r')\n",
    "loaded = json.load(f)\n",
    "pd.DataFrame(loaded['Spectrum'])"
   ]
  },
  {
   "cell_type": "code",
   "execution_count": 28,
   "metadata": {
    "collapsed": false
   },
   "outputs": [
    {
     "name": "stdout",
     "output_type": "stream",
     "text": [
      "{'Name': 'Test Data', 'T': 300, 'Spectrum': {'V': {'2': 2000, '1': 2500, '0': 1500}, 'wavelength': {'2': 730.8021, '1': 730.7931, '0': 730.7841}}}\n"
     ]
    }
   ],
   "source": [
    "print(loaded)\n",
    "rest_dict = {x : loaded[x] for x in loaded.keys() if x not in ['Spectrum']}"
   ]
  },
  {
   "cell_type": "code",
   "execution_count": 30,
   "metadata": {
    "collapsed": false
   },
   "outputs": [
    {
     "data": {
      "text/plain": [
       "'Test Data'"
      ]
     },
     "execution_count": 30,
     "metadata": {},
     "output_type": "execute_result"
    }
   ],
   "source": [
    "rest_dict['Name']"
   ]
  },
  {
   "cell_type": "code",
   "execution_count": 36,
   "metadata": {
    "collapsed": true
   },
   "outputs": [],
   "source": [
    "test_spec = io.load_Spectrum(\"test.json\")"
   ]
  },
  {
   "cell_type": "code",
   "execution_count": 39,
   "metadata": {
    "collapsed": false
   },
   "outputs": [
    {
     "data": {
      "text/plain": [
       "1500"
      ]
     },
     "execution_count": 39,
     "metadata": {},
     "output_type": "execute_result"
    }
   ],
   "source": [
    "test_spec.data['V'][0]"
   ]
  },
  {
   "cell_type": "code",
   "execution_count": 52,
   "metadata": {
    "collapsed": false
   },
   "outputs": [
    {
     "data": {
      "text/plain": [
       "'C:\\\\Users\\\\Ruffin\\\\Dropbox (Lukin SiV)\\\\Harvard Physics\\\\Classes\\\\PHYS 201\\\\Project\\\\project code\\\\sivtempfit\\\\test_json_simple.json'"
      ]
     },
     "execution_count": 52,
     "metadata": {},
     "output_type": "execute_result"
    }
   ],
   "source": [
    "\"\\\\\".join(dp.__file__.split('\\\\')[:-1])+\"\\\\test_json_simple.json\""
   ]
  },
  {
   "cell_type": "code",
   "execution_count": 55,
   "metadata": {
    "collapsed": false
   },
   "outputs": [],
   "source": [
    "test_dict = {\"Name\" : \"Simulated test data for model fitting\",\n",
    "             \"Description\" : \"Data generated from two_peak_model with the following command:\\ntwo_peak_model(xrange, 500, 10, -30, 70, 20, 0.1, 1) + np.random.normal(1,0.5,10000)\"}"
   ]
  },
  {
   "cell_type": "code",
   "execution_count": 57,
   "metadata": {
    "collapsed": false
   },
   "outputs": [],
   "source": [
    "test_spec_in = io.load_Spectrum(\"simulated_spectrum.json\")"
   ]
  },
  {
   "cell_type": "code",
   "execution_count": 62,
   "metadata": {
    "collapsed": false
   },
   "outputs": [
    {
     "name": "stdout",
     "output_type": "stream",
     "text": [
      "Data generated from two_peak_model with the following command:\n",
      "two_peak_model(xrange, 500, 10, -30, 70, 20, 0.1, 1) + np.random.normal(1,0.5,10000)\n"
     ]
    }
   ],
   "source": [
    "print(test_spec_in.metadata['Description'])"
   ]
  },
  {
   "cell_type": "code",
   "execution_count": null,
   "metadata": {
    "collapsed": true
   },
   "outputs": [],
   "source": []
  }
 ],
 "metadata": {
  "kernelspec": {
   "display_name": "Python 3",
   "language": "python",
   "name": "python3"
  },
  "language_info": {
   "codemirror_mode": {
    "name": "ipython",
    "version": 3
   },
   "file_extension": ".py",
   "mimetype": "text/x-python",
   "name": "python",
   "nbconvert_exporter": "python",
   "pygments_lexer": "ipython3",
   "version": "3.5.1"
  }
 },
 "nbformat": 4,
 "nbformat_minor": 0
}
