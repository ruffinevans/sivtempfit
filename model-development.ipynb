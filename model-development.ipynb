{
 "cells": [
  {
   "cell_type": "markdown",
   "metadata": {},
   "source": [
    "# sivtempfit generative model development\n",
    "\n",
    "**Ruffin Evans**\n",
    "\n",
    "2016-04-10\n",
    "\n",
    "Last Update: 2016-05-05\n",
    "\n",
    "This notebook develops the generative model that will eventually be used to fit the spectra data in this package.\n",
    "\n",
    "I'll do this in two steps.\n",
    "\n",
    "First, I'll write down the generative model. The end result of this section will be to produce a spectrum that \"looks like\" the spectra produced experimentally depending on the parameters.\n",
    "\n",
    "Next, given this generative model, I will write down the likelihood function which expresses how well the data agrees with the model (literally, the likelihood that the data is drawn from the model.) The main part that is hard about this is that I need to make a statement about the uncertanties in the data."
   ]
  },
  {
   "cell_type": "markdown",
   "metadata": {},
   "source": [
    "## Standard Imports"
   ]
  },
  {
   "cell_type": "code",
   "execution_count": 1,
   "metadata": {
    "collapsed": false
   },
   "outputs": [],
   "source": [
    "# makes plots display inline in notebook interface:\n",
    "%matplotlib inline \n",
    "\n",
    "import matplotlib\n",
    "import numpy as np\n",
    "import matplotlib.pyplot as plt\n",
    "import warnings\n",
    "warnings.filterwarnings(\"ignore\", category=UserWarning, module=\"matplotlib\")\n",
    "import emcee\n",
    "import pandas as pd\n",
    "import seaborn as sns\n",
    "import scipy.stats as stats # Use for KDE in the end\n",
    "import scipy.optimize as opt # Use for minimizing KDE\n",
    "import scipy as sp\n",
    "sns.set_style(\"whitegrid\")"
   ]
  },
  {
   "cell_type": "markdown",
   "metadata": {},
   "source": [
    "## Generative Model\n",
    "\n",
    "The model that I'll start with is fairly simple. It contains two peaks: one for the laser line, and one for the SiV itself.\n",
    "\n",
    "Some preliminary fitting suggests that both peaks are very well fit by a Lorentzian and not by a Gaussian. Physically, it's not clear what the situation should be. For a single SiV, the spectrum should be Lorentzian, but we generally measure an ensemble of SiVs with enough of an inhomogeneous distribution that there could be a Gaussian component.\n",
    "\n",
    "In the future, therefore, I may upgrade this model to fit a [Voigt profile](http://scipython.com/book/chapter-8-scipy/examples/the-voigt-profile/) to these lines instead. But this is possibly computationally more expensive (both in terms of evaluating the function and in terms of the added parameters) so let's just stick with the two-lorentzian model for now."
   ]
  },
  {
   "cell_type": "markdown",
   "metadata": {
    "collapsed": true
   },
   "source": [
    "### A word about resolution\n",
    "\n",
    "Vinny suggested that I include in my model some \"blur\" from the spectrometer itself. This effects the two peaks in the spectrum in two separate ways.\n",
    "\n",
    "The laser line is intrinsically much narrower ($\\lesssim 100 \\mathrm{MHz}$) than the resolution of the spectrometer ($\\sim10\\mathrm{GHz}$). Hence, the laser line is only limited by the resolution of the spectrometer, and blurring this line would be accounting for this effect twice.\n",
    "\n",
    "The SiV line is intrinsically much broader ($\\sim2\\mathrm{THz}$) than the resolution of the spectrometer, so the effect of the spectrometer resolution will be minimal.\n",
    "\n",
    "Finally, if both lines are indeed lorentzians, then that means the transfer function of the spectrometer is a lorentzian. Since the siv line is lorentzian by assumption, and the convolution of two lorentzians is a lorentzian, fitting a single lorentzian is actually general in this case.\n",
    "\n",
    "Motivated by these considerations, I will not introduce a specific blurring from the spectrometer for now."
   ]
  },
  {
   "cell_type": "markdown",
   "metadata": {},
   "source": [
    "### Construction of the model\n",
    "\n",
    "The model here has two Lorentzian peaks plus a constant background. The peaks have arbitrary amplitude and width (although we have strong priors on the width on the narrower (laser) peak).\n",
    "\n",
    "We'll parameterize the center positions of the peak with two variables: $C_2$ and $C_2-C_1$. This choice is motivated by the desire to use the laser peak with center $C_2$ as a calibration, so $C_1-C_2+\\lambda_2$ is the actual center position of peak 1 independent of the wavelength calibration of the instrument since $\\lambda_2$ is known exactly."
   ]
  },
  {
   "cell_type": "markdown",
   "metadata": {},
   "source": [
    "First, define a standard Lorentzian. This could be done by using scipy.stats.cauchy.pdf , but I'm not sure if that is efficient."
   ]
  },
  {
   "cell_type": "code",
   "execution_count": 2,
   "metadata": {
    "collapsed": true
   },
   "outputs": [],
   "source": [
    "def lorentz(x, center, width):\n",
    "    \"\"\"\n",
    "    A lorentzian function with peak position 'center' and FWHM 'width'.\n",
    "    \"\"\"\n",
    "    return (1/np.pi)*(width/2)/((x-center)**2+(width/2)**2)"
   ]
  },
  {
   "cell_type": "markdown",
   "metadata": {},
   "source": [
    "Now, we can define the model"
   ]
  },
  {
   "cell_type": "code",
   "execution_count": 3,
   "metadata": {
    "collapsed": true
   },
   "outputs": [],
   "source": [
    "def two_peak_model(x, amp1, amp2, center_offset, center2, width1, width2, background):\n",
    "    return background + amp1*lorentz(x, center_offset + center2, width1) + amp2*lorentz(x, center2, width2)"
   ]
  },
  {
   "cell_type": "markdown",
   "metadata": {},
   "source": [
    "For example, we expect the spectra to look something like this:"
   ]
  },
  {
   "cell_type": "code",
   "execution_count": 4,
   "metadata": {
    "collapsed": false
   },
   "outputs": [
    {
     "data": {
      "text/plain": [
       "[<matplotlib.lines.Line2D at 0x275f22bd278>]"
      ]
     },
     "execution_count": 4,
     "metadata": {},
     "output_type": "execute_result"
    },
    {
     "data": {
      "image/png": "[encoded data removed]",
      "text/plain": [
       "<matplotlib.figure.Figure at 0x275f21e4710>"
      ]
     },
     "metadata": {},
     "output_type": "display_data"
    }
   ],
   "source": [
    "xrange = np.arange(0,100,0.1)\n",
    "plt.plot(xrange, two_peak_model(xrange, 500, 10, -30, 70, 20, 0.1, 2))"
   ]
  },
  {
   "cell_type": "markdown",
   "metadata": {},
   "source": [
    "## Likelihood\n",
    "\n",
    "### Introduction\n",
    "\n",
    "As noted above, this requires us to make statements about the noise in our system. We have characterized our system a bit and the noise seems to be primarily limited by shot noise. \n",
    "\n",
    "There are some subleties here, however. The shot noise is only on the photons that are actually detected, whereas there is also a readout noise on the detector of \"three electrons\" (according to the datasheet) per bin. Absent any other information, I assume this is gaussian noise. Moreover, the detector itself contributes a more or less fixed background (of around 1000 counts) on top of this noise. So, we'll include an additional term in the likelihood that includes this fixed CCD readout background plus associated noise.\n",
    "\n",
    "The likelihood is then the product of two terms: one is a Gaussian likelihood for the CCD background, and one is a Poisson likelihood for the actual photon signal. In each of these two terms, we subtract the contribution to the signal from the other term before we calculate that contribution to the likelihood. In other words, for the CCD background, we take the signal, subtract what we think is coming from the light entering the instrument --- which is the two_peak_model --- and then consider Gaussian noise on that residual bit. For the poisson noise, we subtract the CCD offset from the signal before we fit the poisson noise.\n",
    "\n",
    "I am not sure if this is the correct thing to do, because it means that if there is gaussian noise on the CCD, it still reduces the likelihood for the poisson contribution because we are subtracting only the background and not any noise. I will try to figure out if this is legit.\n",
    "\n",
    "### Note on parameterization\n",
    "\n",
    "In the future, we will test a model for the temperature dependence of $C_1$ which we expect to be approximately linear over a suitable range. Anticipating this, we will write $C_1 = (T-T_0)\\times m+\\lambda_0$ where $m = \\frac{d\\lambda}{dT}$ and $T_0$ and $\\lambda_0$ are the offsets for the linear scaling. We can combine these two offsets into a single dummy variable $C_0$.\n",
    "\n",
    "Note that this linear scaling is nonphysical: it is just an approximation that holds fairly well over a small temperature range. We'll have to change this formulation slightly to test higher order models for the temperature scaling.\n",
    "\n",
    "Here, we will also switch to the (for now, redundant) parameterization in terms of $T$ and $m$, plus an offset $C_0$. For fitting a single spectrum, $T$ can be set to zero and the fit will be in terms of $C_0$ only.\n",
    "\n",
    "\n",
    "### Formal construction of likelihood\n",
    "\n",
    "(For this section, I found the following paper useful: http://epubs.siam.org/doi/abs/10.1137/15M1014395?journalCode=sjisbi)\n",
    "\n",
    "For each data point $y_i$ we have the prediction of our model $z_i=m_i(\\theta)$ plus two sources of error $f_i$ and $g_i$ corresponding to Poisson and Gaussian noise respectively.\n",
    "\n",
    "$$y_i = m_i(\\theta) + f_i + g_i$$\n",
    "\n",
    "We assume that these two sources of error (photon shot noise and electron readout noise) are uncorrelated. Then we can write down the joint distribution:\n",
    "\n",
    "$$e_i = f_i + g_i$$\n",
    "\n",
    "which is just the convolution of the two noise sources. Once we have $e_i$, the formulation we have learned in class can be applied. (Alternatively, we can go through the integral formulation that Gregory does with these two sources of error -- there will be an extra integral involved and the convlution will arise organically.) Following this logic, the likelihood to detect $y_i$ photons is the convolution of the likelihood terms from the two error processes:\n",
    "\n",
    "$$\\mathcal{L}(y_i) \\equiv p(y_i \\mid M, \\theta, I) = \\sum_{n=0}^\\infty\\frac{\\mu_i^n}{n!}e^{-\\mu_i}\\cdot \\frac{1}{\\sqrt{2\\pi}\\sigma} e^{-\\frac{((y_i-n)-b)^2}{2\\sigma^2}}$$\n",
    "\n",
    "Let's unpack this. We have a (discrete) convolution of two terms, which intuitively expresses the idea that we are detecting $y_i$ photons but that this signal could be divided different ways between the two sources of noise.\n",
    "\n",
    "The first term arises from considering the Poisson distribution with mean $\\mu_i$. Here, $\\mu_i$ is the value predicted from the model above and accounts only for the photons hitting the detector (which can include some background).\n",
    "\n",
    "The second term arises from considering the Gaussian distribution with mean $b$ and standard deviation $\\sigma$. This term has nothing to do with the above model (in that sense, the above model is incomplete or at least underparameterized) and arises from the CCD background noise which is Gaussian with some mean and standard deviation."
   ]
  },
  {
   "cell_type": "markdown",
   "metadata": {},
   "source": [
    "### Numerical interlude\n",
    "\n",
    "To calculate the likelihood, we need to perform a convolution (which amounts to performing a sum) for each data point. This gives the likelihood of a single data point. Then we need to multiply together the likelihood of all of these data points and take the log.\n",
    "\n",
    "We can do this in a `for` loop, but in python it's better if we can use numpy to do this in a fully vectorized way. How do we do that?\n",
    "\n",
    "Well, we have three lists: the list of predictions for the model, the list of the actual data point values, and the photon numbers $n$ over which to perform the convolution. Two of these lists have the same dimensions and have corresponding values, but the photon number list is a different animal -- its values do not \"match up\" with the values in the other two lists. Rather, we want to do a sort of outer product where we perform the convolution for each data point in the data and model lists.\n",
    "\n",
    "This requires telling `numpy` how to do the broadcasting. Here is a simple example."
   ]
  },
  {
   "cell_type": "code",
   "execution_count": 5,
   "metadata": {
    "collapsed": false
   },
   "outputs": [
    {
     "name": "stdout",
     "output_type": "stream",
     "text": [
      "[ 0.   0.5  1. ]\n",
      "[ 0.    0.25  0.5   0.75  1.  ]\n",
      "[[ 0.  ]\n",
      " [ 0.25]\n",
      " [ 0.5 ]\n",
      " [ 0.75]\n",
      " [ 1.  ]]\n",
      "[[ 1.          1.          1.        ]\n",
      " [ 0.          0.84089642  1.        ]\n",
      " [ 0.          0.70710678  1.        ]\n",
      " [ 0.          0.59460356  1.        ]\n",
      " [ 0.          0.5         1.        ]]\n",
      "(5, 3)\n",
      "[ 1.          3.64260675  5.        ]\n",
      "[[        nan         inf         inf]\n",
      " [ 0.          1.68179283  4.        ]\n",
      " [ 0.          0.70710678  2.        ]\n",
      " [ 0.          0.39640237  1.33333333]\n",
      " [ 0.          0.25        1.        ]]\n",
      "1.681792830507429\n"
     ]
    }
   ],
   "source": [
    "ydata = np.arange(0,1.1,0.5)\n",
    "conv_range = np.arange(0, 1.1, 0.25)\n",
    "# Can do the outer product like this\n",
    "new_data = (ydata**conv_range[:,np.newaxis])\n",
    "print(ydata)\n",
    "print(conv_range)\n",
    "print(conv_range[:,np.newaxis])\n",
    "print(new_data)\n",
    "print(new_data.shape)\n",
    "# Zero sums along columns, 1 sums along rows\n",
    "# Here, doing a*b[:,np.newaxis] gives a table with dims (len(b), len(a)) that has [b_1*a, b_2*a, b_3*a]\n",
    "# So summing along axis 0 is the correct thing to do if we want to do convolution and b is the set of things to convolve.\n",
    "# Then we have a list of likelihoods, which we can np.product and then log\n",
    "print(np.sum(new_data, 0))\n",
    "# Seems like you need to do np.newaxis thing after each operation with the convolution variable\n",
    "# But not for the y data variable; the axes match up and that can be broadcast.\n",
    "print((ydata**conv_range[:,np.newaxis])/(conv_range[:,np.newaxis])*ydata)\n",
    "# Element 2, 2 should be:\n",
    "print(0.5**0.25/0.25*0.5)                                              "
   ]
  },
  {
   "cell_type": "markdown",
   "metadata": {},
   "source": [
    "Now, when we want to do the convolution, each point should have the convolution done over a different range because it has a different number of photons. So what we really want is a different convolution list for each y value. Should just be $n=(y-b)\\pm5\\sigma$ (but at least zero) since Gaussian has essentially negligible support elsewhere. "
   ]
  },
  {
   "cell_type": "code",
   "execution_count": 6,
   "metadata": {
    "collapsed": false
   },
   "outputs": [
    {
     "name": "stdout",
     "output_type": "stream",
     "text": [
      "[[-5.  -4.5 -4. ]\n",
      " [-4.  -3.5 -3. ]\n",
      " [-3.  -2.5 -2. ]\n",
      " [-2.  -1.5 -1. ]\n",
      " [-1.  -0.5  0. ]\n",
      " [ 0.   0.5  1. ]\n",
      " [ 1.   1.5  2. ]\n",
      " [ 2.   2.5  3. ]\n",
      " [ 3.   3.5  4. ]\n",
      " [ 4.   4.5  5. ]]\n",
      "[ 0.   0.5  1. ]\n",
      "[[             inf   4.32293011e-01   4.16666667e-02]\n",
      " [             inf   9.72659274e-01   1.66666667e-01]\n",
      " [             inf   1.70215373e+00   5.00000000e-01]\n",
      " [             inf   2.12769216e+00   1.00000000e+00]\n",
      " [             inf   1.59576912e+00   1.00000000e+00]\n",
      " [  1.00000000e+00   7.97884561e-01   1.00000000e+00]\n",
      " [  0.00000000e+00   2.65961520e-01   5.00000000e-01]\n",
      " [  0.00000000e+00   5.31923041e-02   1.66666667e-01]\n",
      " [  0.00000000e+00   7.59890058e-03   4.16666667e-02]\n",
      " [  0.00000000e+00   8.44322287e-04   8.33333333e-03]]\n",
      "(10, 3)\n"
     ]
    },
    {
     "data": {
      "text/plain": [
       "array([        inf,  7.95604891,  4.425     ])"
      ]
     },
     "execution_count": 6,
     "metadata": {},
     "output_type": "execute_result"
    }
   ],
   "source": [
    "ydata = np.arange(0,1.1,0.5)\n",
    "conv_range = np.arange(-5, 5)[:,np.newaxis]\n",
    "# Each element in this list is a list of values over which to do the convolution.\n",
    "conv_matrix = (ydata+conv_range)\n",
    "print(conv_matrix)\n",
    "# Now we can perform manipulations like so:\n",
    "new_data = (ydata**conv_matrix)/(sp.misc.factorial(abs(conv_matrix)))\n",
    "print(ydata)\n",
    "print(new_data)\n",
    "print(new_data.shape)\n",
    "# To get the convolved data out, just do sum along first axis:\n",
    "np.sum(new_data, 0)"
   ]
  },
  {
   "cell_type": "markdown",
   "metadata": {},
   "source": [
    "Finally, we need to be careful that we don't divide by zero, which will happen if we pass a negative number to the factorial function. To do this, replace negative numbers by NaN, and then set all NaNs to zero. Can do this with masking:"
   ]
  },
  {
   "cell_type": "code",
   "execution_count": 8,
   "metadata": {
    "collapsed": false
   },
   "outputs": [
    {
     "name": "stdout",
     "output_type": "stream",
     "text": [
      "[[-5.  -4.5 -4. ]\n",
      " [-4.  -3.5 -3. ]\n",
      " [-3.  -2.5 -2. ]\n",
      " [-2.  -1.5 -1. ]\n",
      " [-1.  -0.5  0. ]\n",
      " [ 0.   0.5  1. ]\n",
      " [ 1.   1.5  2. ]\n",
      " [ 2.   2.5  3. ]\n",
      " [ 3.   3.5  4. ]\n",
      " [ 4.   4.5  5. ]]\n",
      "[-5.  -4.5 -4.  -4.  -3.5 -3.  -3.  -2.5 -2.  -2.  -1.5 -1.  -1.  -0.5]\n",
      "[[ nan  nan  nan]\n",
      " [ nan  nan  nan]\n",
      " [ nan  nan  nan]\n",
      " [ nan  nan  nan]\n",
      " [ nan  nan  0. ]\n",
      " [ 0.   0.5  1. ]\n",
      " [ 1.   1.5  2. ]\n",
      " [ 2.   2.5  3. ]\n",
      " [ 3.   3.5  4. ]\n",
      " [ 4.   4.5  5. ]]\n"
     ]
    }
   ],
   "source": [
    "conv_matrix = (ydata+conv_range)\n",
    "print(conv_matrix)\n",
    "print(conv_matrix[conv_matrix<0])\n",
    "conv_matrix[conv_matrix<0] = np.nan\n",
    "print(conv_matrix)"
   ]
  },
  {
   "cell_type": "markdown",
   "metadata": {},
   "source": [
    "### Full specification of likelihood\n",
    "\n",
    "We can now construct the likelihood function. I will simply reference the latest version from the package, because it is the most up-to-date and best documented."
   ]
  },
  {
   "cell_type": "code",
   "execution_count": 10,
   "metadata": {
    "collapsed": true
   },
   "outputs": [],
   "source": [
    "import sivtempfit.model\n",
    "import inspect"
   ]
  },
  {
   "cell_type": "code",
   "execution_count": 13,
   "metadata": {
    "collapsed": false
   },
   "outputs": [
    {
     "data": {
      "text/plain": [
       "(['def two_peak_log_likelihood(x, y, amp1, amp2, T, m, C0, center2,\\n',\n",
       "  '                            width1, width2, light_background,\\n',\n",
       "  '                            ccd_background, ccd_stdev,\\n',\n",
       "  '                            conv_range = -1, debug = False,\\n',\n",
       "  '                            test_norm = False, safe = False,\\n',\n",
       "  '                            gaussian_approx = False):\\n',\n",
       "  '    \"\"\"\\n',\n",
       "  '    Returns the log-likelihood calculated for the two-peak + CCD noise model.\\n',\n",
       "  '    See also: two_peak_model\\n',\n",
       "  '    Parameters:\\n',\n",
       "  '    -----------\\n',\n",
       "  '    x : wavelength or x-axis value\\n',\n",
       "  '    y : corresponding observed data value\\n',\n",
       "  '    amp1 : amplitude of the broad SiV peak in the spectrum\\n',\n",
       "  '    amp2 : amplitude of the narrow calibration peak in the spectrum\\n',\n",
       "  '    T : The temperature of the sample\\n',\n",
       "  '    m : The linear scaling of the SiV peak position with temperature\\n',\n",
       "  '    C0 : The offset in the above linear scaling\\n',\n",
       "  '    center2 : The position of the calibration line\\n',\n",
       "  '    width1 : The width (FWHM) of the SiV line\\n',\n",
       "  '    width2 : The width (FWHM) of the calibration line\\n',\n",
       "  '    light_background : The contribution to the background from stray light,\\n',\n",
       "  '                       contributing shot noise\\n',\n",
       "  '    ccd_backgrond : The contribution to the background from CCD readout,\\n',\n",
       "  '                    contributing gaussian noise\\n',\n",
       "  '    ccd_stdev : The standard deviation on the gaussian CCD noise\\n',\n",
       "  '\\n',\n",
       "  '    Optional Arguments:\\n',\n",
       "  '    -------------------\\n',\n",
       "  '    gaussian_approx: Use a gaussian approximation for the poisson distribution.\\n',\n",
       "  '                     This allows the calculation to be sped up by several\\n',\n",
       "  '                     orders of magnitude and is a good approximation as long\\n',\n",
       "  '                     as the relevant signal is greater than about ten counts.\\n',\n",
       "  '    conv_range : How many sigmas of the poisson distribution to go out to in\\n',\n",
       "  '                 the convolution. For example, if there are 1000 photons in a\\n',\n",
       "  '                 bin, the convolution is centered around 1000 and goes out to\\n',\n",
       "  '                 1000 +/- conv_range * sqrt(1000). Default value is -1, which\\n',\n",
       "  '                 goes out to 2.5 sigma. Note that the beahvior of this argument\\n',\n",
       "  \"                 changes if the 'safe' argument is True. (See below.)\\n\",\n",
       "  '    debug : if True, returns the convolution list, the convolution\\n',\n",
       "  '            matrix, the poisson matrix, the gaussian matrix, the\\n',\n",
       "  '            likelihood list, and the computed max_y. False by default,\\n',\n",
       "  '            in which case only the log-likelihood is returned.\\n',\n",
       "  '    test_norm: if True, tests to make sure that the gaussian and poisson\\n',\n",
       "  '               contributions are normalized. This is the default case.\\n',\n",
       "  '               If False, the function will run a little faster but will\\n',\n",
       "  '               not check this condition.\\n',\n",
       "  '    safe : if True, calculate the likelihood using the super-safe default\\n',\n",
       "  '           for the convolution ranges. This is much slower, but possibly\\n',\n",
       "  '           useful if you are getting unexpected results in inference.\\n',\n",
       "  '           Default: False.\\n',\n",
       "  '           This changes the behavior of the conv_range command.\\n',\n",
       "  '           If safe is True, conv_range is the total range to go out to\\n',\n",
       "  '           in the convolution (not the range in terms of sigma).\\n',\n",
       "  '           The default behavior also changes: in the default case, the\\n',\n",
       "  '           convolution goes out to min([max(y), max(model_prediction)]) plus\\n',\n",
       "  '           3 * sqrt of this max.\\n',\n",
       "  '    \"\"\"\\n',\n",
       "  '\\n',\n",
       "  '    # First, get the contribution from the light signal.\\n',\n",
       "  '    y_two_peak_model = two_peak_model(x, amp1, amp2, C0 + T * m,\\n',\n",
       "  '                                      center2, width1, width2,\\n',\n",
       "  '                                      light_background)\\n',\n",
       "  '\\n',\n",
       "  '    # If the prediction from the model is ever <= 0,\\n',\n",
       "  '    # the likelihood is zero and the log-likelihood is -np.inf\\n',\n",
       "  '    # This is because the system can never produce negative\\n',\n",
       "  '    # photons.\\n',\n",
       "  '    #\\n',\n",
       "  '    # If either background contribution is less than zero,\\n',\n",
       "  '    # the log-likelihood should also be negative infinity\\n',\n",
       "  '    # \\n',\n",
       "  '    # This is, to some extent, including a prior.\\n',\n",
       "  '\\n',\n",
       "  '    if (np.min(y_two_peak_model) <= 0 or ccd_background < 0\\n',\n",
       "  '        or light_background < 0) and not(debug):\\n',\n",
       "  '        return -np.inf\\n',\n",
       "  '\\n',\n",
       "  '    # If the gaussian approximation is being used, calculating the likelihood\\n',\n",
       "  '    # is exceedingly simple, so just do it here and skip the rest of the stuff.\\n',\n",
       "  '    # In my benchmarking, calculating this by hand is actually faster than \\n',\n",
       "  '    # using scipy.stats.\\n',\n",
       "  '    if gaussian_approx:\\n',\n",
       "  '        # Standard deviation is sum of variances.\\n',\n",
       "  '        # For poisson term, variance is mean, and mean is the model.\\n',\n",
       "  '        total_var = ccd_stdev**2 + y_two_peak_model\\n',\n",
       "  '        likelihood_list = ((1 / (np.sqrt(2.0 * np.pi * total_var))) *\\n',\n",
       "  '                         np.exp(-1.0 * (y - y_two_peak_model - ccd_background)**2 /\\n',\n",
       "  '                                (2.0 * total_var)))\\n',\n",
       "  '        return np.sum(np.log(likelihood_list))\\n',\n",
       "  '\\n',\n",
       "  '    # If safe is True, then do the naive convolution over the entire range\\n',\n",
       "  '    # of the data. This is time consuming, but should work no matter what.\\n',\n",
       "  '    # If safe is False (the default case), the bounds of the convolution will\\n',\n",
       "  '    # be adjusted for each data point. This can dramatically speed up the\\n',\n",
       "  '    # calculations (I predict 5-10x improvement) but could cause some\\n',\n",
       "  '    # undesirable consequences that I cannot forsee.\\n',\n",
       "  '    #\\n',\n",
       "  '    # To see how this works, just do a simple change of variables in the\\n',\n",
       "  '    # convolution. Instead of taking n going from yi-gamma to yi+gamma, where \\n',\n",
       "  '    # gamma is some sufficiently large number so that the probability is zero\\n',\n",
       "  '    # elsewhere, take:\\n',\n",
       "  '    # x = n - y_i\\n',\n",
       "  '    # going from - gamma to gamma.\\n',\n",
       "  '    # Mathematically, this does nothing, but it allows us to use a much smaller\\n',\n",
       "  '    # matrix for the convolution range.\\n',\n",
       "  '\\n',\n",
       "  '    if safe:\\n',\n",
       "  '        # Construct the bounds of convolution\\n',\n",
       "  '        # If the conv_range is -1, go out to the max of the\\n',\n",
       "  '        # max(y, model prediction) + 3x the square root of the max.\\n',\n",
       "  '        # etc. for min\\n',\n",
       "  '        max_y = 0\\n',\n",
       "  '        if conv_range == -1:\\n',\n",
       "  '            # Optimize these, maybe do max of min and min of max\\n',\n",
       "  '            # Before, this was not this way, which meant that size of matrices\\n',\n",
       "  '            # could grow arbitrarily depending on prediction. This way they are at\\n',\n",
       "  '            # least bounded by the actual data.\\n',\n",
       "  '            # \\n',\n",
       "  '            # The values from y should have the ccd_background subtracted, because\\n',\n",
       "  '            # the convolution goes over the physical photons, not the ccd\\n',\n",
       "  '            # background.\\n',\n",
       "  '            #\\n',\n",
       "  '            # This passes the tests, I think it is OK in inference.\\n',\n",
       "  '            min_y = np.max([np.min(y_two_peak_model), np.min(y)-ccd_background])\\n',\n",
       "  '            max_y = np.min([np.max(y_two_peak_model), np.max(y)-ccd_background])\\n',\n",
       "  \"            # Shouldn't this be np.max below? Was np.min w/ min_y in the\\n\",\n",
       "  '            # np.sqrt. Could cause some problems. I think it was related\\n',\n",
       "  '            # to not having the ccd_background above.\\n',\n",
       "  '            conv_min = np.floor(np.max([0, min_y - 3 * np.sqrt(min_y)]))\\n',\n",
       "  '            conv_max = np.floor(max_y + 3 * np.sqrt(max_y))\\n',\n",
       "  '        elif conv_range > 0:\\n',\n",
       "  '            conv_max = conv_range\\n',\n",
       "  '        else:\\n',\n",
       "  \"            raise ValueError('Range for convolution must be positive')\\n\",\n",
       "  '        \\n',\n",
       "  '        conv_list = np.arange(conv_min, conv_max)[:, np.newaxis]\\n',\n",
       "  '        # Construct the convolution matrix by broadcasting\\n',\n",
       "  '        # Probably there is a faster way to do this.\\n',\n",
       "  '        conv_mat = conv_list + 0*y\\n',\n",
       "  '        \\n',\n",
       "  '        # Construct poisson term\\n',\n",
       "  '        poisson_term = stats.poisson._pmf(conv_mat, y_two_peak_model)\\n',\n",
       "  '        # Construct gaussian term\\n',\n",
       "  '        gaussian_term = ((1 / (np.sqrt(2.0 * np.pi * ccd_stdev**2))) *\\n',\n",
       "  '                         np.exp(-1.0 * (y - conv_mat - ccd_background)**2 /\\n',\n",
       "  '                                (2.0 * ccd_stdev**2)))\\n',\n",
       "  '    else:\\n',\n",
       "  '        # else: use fast (not \"safe\" technique)\\n',\n",
       "  '\\n',\n",
       "  '        # conv_range in this case is handled a little differently\\n',\n",
       "  '        # See docstring.\\n',\n",
       "  '        if conv_range == -1:\\n',\n",
       "  '            conv_range = 2.5\\n',\n",
       "  '        elif conv_range > 0:\\n',\n",
       "  '            pass\\n',\n",
       "  '        else:\\n',\n",
       "  \"            raise ValueError('Range for convolution must be positive')\\n\",\n",
       "  '\\n',\n",
       "  '        # Construct the bounds of convolution\\n',\n",
       "  '        # floor is important here so that convolution range is only over ints.\\n',\n",
       "  '        # min_y is unnecessary for this case, but useful to pass as output of\\n',\n",
       "  '        # debug so that format is consistent.\\n',\n",
       "  '        min_y = np.max([np.min(y_two_peak_model), np.min(y)-ccd_background])\\n',\n",
       "  '        max_y = np.min([np.max(y_two_peak_model), np.max(y)-ccd_background])\\n',\n",
       "  '        conv_max = conv_range*np.sqrt(max_y)\\n',\n",
       "  '        conv_min = -1*conv_max\\n',\n",
       "  '        # Need to subtract the ccd_background here, because we are comparing\\n',\n",
       "  '        # conv_mat + y to the prediction from y_two_peak_model and the two\\n',\n",
       "  '        # differ by the ccd_background prediction. One way to look at this is\\n',\n",
       "  '        # that the convolution should go over the *physical* number of photons\\n',\n",
       "  '        # (which does not include the ccd_background) contribution, but y\\n',\n",
       "  '        # includes a contribution from the background, so we need to subtract\\n',\n",
       "  '        # the background from y, i.e. add its negative to the conv_list.\\n',\n",
       "  '        # If the background is some crazy thing, the likelihood will be low,\\n',\n",
       "  \"        # but that's OK. (It's kind of the point.)\\n\",\n",
       "  '        #\\n',\n",
       "  '        # We need to subtract it here and not e.g. in the probability\\n',\n",
       "  '        # calculation for consistency.\\n',\n",
       "  '        conv_list = np.arange(conv_min, conv_max)[:,np.newaxis]-np.floor(ccd_background)\\n',\n",
       "  '        # Construct the convolution matrix by broadcasting.\\n',\n",
       "  '        # Note that this should NOT be conv_list - y.\\n',\n",
       "  '        # That would effectively undo our change of variables and make it\\n',\n",
       "  '        # mathematically equivalent to the safe case. (I have checked this.)\\n',\n",
       "  '        conv_mat = (conv_list - 0*y)\\n',\n",
       "  \"        # Don't allow negative photons.\\n\",\n",
       "  '        # Unfortunately, this requires us to use nansum below, which I really\\n',\n",
       "  \"        # don't like.\\n\",\n",
       "  '        # This would be handled elegantly if we could use pmf instead of _pmf,\\n',\n",
       "  '        # because pmf (although a factor of two slower) will set negative\\n',\n",
       "  '        # values to zero. However, it also sets non-integer values to zero,\\n',\n",
       "  '        # and we can have non-integer values if y is non-integer valued.\\n',\n",
       "  '        #\\n',\n",
       "  '        # TODO: do change of variables such that we have an integer part of y\\n',\n",
       "  '        # and a non-integer part of y. The non-integer part shows up in the\\n',\n",
       "  '        # gaussian part, and the integer part shows up in the poisson part\\n',\n",
       "  '        # but I am not worrying about this for now.\\n',\n",
       "  '        conv_mat[conv_mat + y < 0] = np.nan\\n',\n",
       "  '        # Construct poisson term. Note change of variables for the mean.\\n',\n",
       "  '        poisson_term = stats.poisson._pmf(conv_mat + y, y_two_peak_model)\\n',\n",
       "  '        # Construct gaussian term. Change of variables means we just\\n',\n",
       "  '        # conv_mat vs. background.\\n',\n",
       "  '        gaussian_term = ((1/(np.sqrt(2.0*np.pi*ccd_stdev**2)))*\\n',\n",
       "  '                         np.exp(-1.0*(conv_mat+ccd_background)**2 / \\n',\n",
       "  '                                (2.0*ccd_stdev**2)))\\n',\n",
       "  '\\n',\n",
       "  '    # Now, in either case (safe or not safe) we have a list of likelihoods\\n',\n",
       "  '    # from the poisson and gaussian terms:\\n',\n",
       "  '\\n',\n",
       "  '    # Perform sum over zeroth axis to get likelihoods\\n',\n",
       "  '    # nansum is extremely dangerous for debugging and best avoided\\n',\n",
       "  '    likelihood_list = np.nansum(poisson_term * gaussian_term, 0)\\n',\n",
       "  '\\n',\n",
       "  '    # Test to make sure poisson and gaussian terms are normalized.\\n',\n",
       "  '    # In other words, make sure the sum in the convolution is going\\n',\n",
       "  '    # out far enough.\\n',\n",
       "  '    # I think it is OK to test only one of them, because if we are\\n',\n",
       "  '    # going completely over the support of at least one of them then\\n',\n",
       "  '    # it means that we are not missing out on any probability density\\n',\n",
       "  '    # in the convolution.\\n',\n",
       "  '    # My motivation for doing `or` instead of `and` is that the gaussian\\n',\n",
       "  '    # term seems to suffer from some discretization errors. If the\\n',\n",
       "  '    # standard deviation is small, then points can land at non-integer\\n',\n",
       "  '    # y values, which can generate a low likelihood just for the gaussian\\n',\n",
       "  '    # term.\\n',\n",
       "  '    if test_norm:\\n',\n",
       "  '        warnings.warn(\"Testing for normalization is no longer meaningful. \"+\\n',\n",
       "  '                      \"If you are trying to extract information this way, \"+\\n',\n",
       "  '                      \"you may be disappointed.\")\\n',\n",
       "  '        gauss_norm = all(np.sum(gaussian_term.T, axis = 1) > 0.99)\\n',\n",
       "  '        poiss_norm = all(np.sum(poisson_term.T, axis = 1) > 0.99)\\n',\n",
       "  '        if not(gauss_norm or poiss_norm):\\n',\n",
       "  \"            raise ValueError('The terms in the convolution are' +\\n\",\n",
       "  \"                             ' not normalized. Try increasing' +\\n\",\n",
       "  \"                             ' the conv_range variable!')\\n\",\n",
       "  '    if debug:\\n',\n",
       "  '        return [conv_list, conv_mat, poisson_term,\\n',\n",
       "  '                gaussian_term, likelihood_list, \\n',\n",
       "  '                [min_y, max_y, conv_min, conv_max], y_two_peak_model]\\n',\n",
       "  '\\n',\n",
       "  '    # Return sum of log_likelihoods\\n',\n",
       "  '    ll = np.sum(np.log(likelihood_list))\\n',\n",
       "  '    return ll\\n'],\n",
       " 30)"
      ]
     },
     "execution_count": 13,
     "metadata": {},
     "output_type": "execute_result"
    }
   ],
   "source": [
    "inspect.getsourcelines(sivtempfit.model.two_peak_log_likelihood)"
   ]
  }
 ],
 "metadata": {
  "kernelspec": {
   "display_name": "Python 3",
   "language": "python",
   "name": "python3"
  },
  "language_info": {
   "codemirror_mode": {
    "name": "ipython",
    "version": 3
   },
   "file_extension": ".py",
   "mimetype": "text/x-python",
   "name": "python",
   "nbconvert_exporter": "python",
   "pygments_lexer": "ipython3",
   "version": "3.5.1"
  }
 },
 "nbformat": 4,
 "nbformat_minor": 0
}
