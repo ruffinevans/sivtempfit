{
 "cells": [
  {
   "cell_type": "markdown",
   "metadata": {},
   "source": [
    "# sivtempfit generative model development\n",
    "\n",
    "Ruffin Evans\n",
    "\n",
    "2016-04-10\n",
    "\n",
    "This notebook develops the generative model that will eventually be used to fit the spectra data in this package.\n",
    "\n",
    "I'll do this in two steps.\n",
    "\n",
    "First, I'll write down the generative model. The end result of this section will be to produce a spectrum that \"looks like\" the spectra produced experimentally depending on the parameters.\n",
    "\n",
    "Next, given this generative model, I will write down the likelihood function which expresses how well the data agrees with the model (literally, the likelihood that the data is drawn from the model.) The main part that is hard about this is that I need to make a statement about the uncertanties in the data."
   ]
  },
  {
   "cell_type": "markdown",
   "metadata": {},
   "source": [
    "## Standard Imports"
   ]
  },
  {
   "cell_type": "code",
   "execution_count": 41,
   "metadata": {
    "collapsed": false
   },
   "outputs": [],
   "source": [
    "# makes plots display inline in notebook interface:\n",
    "%matplotlib inline \n",
    "\n",
    "import matplotlib\n",
    "import numpy as np\n",
    "import matplotlib.pyplot as plt\n",
    "import warnings\n",
    "warnings.filterwarnings(\"ignore\", category=UserWarning, module=\"matplotlib\")\n",
    "import emcee\n",
    "import pandas as pd\n",
    "import seaborn as sns\n",
    "import scipy.stats as stats # Use for KDE in the end\n",
    "import scipy.optimize as opt # Use for minimizing KDE\n",
    "import scipy as sp\n",
    "sns.set_style(\"whitegrid\")"
   ]
  },
  {
   "cell_type": "markdown",
   "metadata": {},
   "source": [
    "## Generative Model\n",
    "\n",
    "The model that I'll start with is fairly simple. It contains two peaks: one for the laser line, and one for the SiV itself.\n",
    "\n",
    "Some preliminary fitting suggests that both peaks are very well fit by a Lorentzian and not by a Gaussian. Physically, it's not clear what the situation should be. For a single SiV, the spectrum should be Lorentzian, but we generally measure an ensemble of SiVs with enough of an inhomogeneous distribution that there could be a Gaussian component.\n",
    "\n",
    "In the future, therefore, I may upgrade this model to fit a [Voigt profile](http://scipython.com/book/chapter-8-scipy/examples/the-voigt-profile/) to these lines instead. But this is possibly computationally more expensive (both in terms of evaluating the function and in terms of the added parameters) so let's just stick with the two-lorentzian model for now."
   ]
  },
  {
   "cell_type": "markdown",
   "metadata": {
    "collapsed": true
   },
   "source": [
    "### A word about resolution\n",
    "\n",
    "Vinny suggested that I include in my model some \"blur\" from the spectrometer itself. This effects the two peaks in the spectrum in two separate ways.\n",
    "\n",
    "The laser line is intrinsically much narrower ($\\lesssim 100 \\mathrm{MHz}$) than the resolution of the spectrometer ($\\sim10\\mathrm{GHz}$). Hence, the laser line is only limited by the resolution of the spectrometer, and blurring this line would be accounting for this effect twice.\n",
    "\n",
    "The SiV line is intrinsically much broader ($\\sim2\\mathrm{THz}$) than the resolution of the spectrometer, so the effect of the spectrometer resolution will be minimal.\n",
    "\n",
    "Finally, if both lines are indeed lorentzians, then that means the transfer function of the spectrometer is a lorentzian. Since the siv line is lorentzian by assumption, and the convolution of two lorentzians is a lorentzian, fitting a single lorentzian is actually general in this case.\n",
    "\n",
    "Motivated by these considerations, I will not introduce a specific blurring from the spectrometer for now."
   ]
  },
  {
   "cell_type": "markdown",
   "metadata": {},
   "source": [
    "### Construction of the model\n",
    "\n",
    "The model here has two Lorentzian peaks plus a constant background. The peaks have arbitrary amplitude and width (although we have strong priors on the width on the narrower (laser) peak).\n",
    "\n",
    "We'll parameterize the center positions of the peak with two variables: $C_2$ and $C_2-C_1$. This choice is motivated by the desire to use the laser peak with center $C_2$ as a calibration, so $C_1-C_2+\\lambda_2$ is the actual center position of peak 1 independent of the wavelength calibration of the instrument since $\\lambda_2$ is known exactly.\n",
    "\n",
    "In the future, we will test a model for the temperature dependence of $C_1$ which we expect to be approximately linear over a suitable range. Anticipating this, we will write $C_1 = T\\times m$ where $m = \\frac{d\\lambda}{dT}$. We'll have to change this formulation slightly to test higher order models for the temperature scaling."
   ]
  },
  {
   "cell_type": "markdown",
   "metadata": {},
   "source": [
    "First, define a standard Lorentzian. This could be done by using scipy.stats.cauchy.pdf , but I'm not sure if that is efficient."
   ]
  },
  {
   "cell_type": "code",
   "execution_count": 42,
   "metadata": {
    "collapsed": true
   },
   "outputs": [],
   "source": [
    "def lorentz(x, center, width):\n",
    "    \"\"\"\n",
    "    A lorentzian function with peak position 'center' and FWHM 'width'.\n",
    "    \"\"\"\n",
    "    return (1/np.pi)*(width/2)/((x-center)**2+(width/2)**2)"
   ]
  },
  {
   "cell_type": "markdown",
   "metadata": {},
   "source": [
    "Now, we can define the model"
   ]
  },
  {
   "cell_type": "code",
   "execution_count": 43,
   "metadata": {
    "collapsed": true
   },
   "outputs": [],
   "source": [
    "def two_peak_model(x, amp1, amp2, center_offset, center2, width1, width2, background):\n",
    "    return background + amp1*lorentz(x, center_offset + center2, width1) + amp2*lorentz(x, center2, width2)"
   ]
  },
  {
   "cell_type": "markdown",
   "metadata": {},
   "source": [
    "For example, we expect the spectra to look something like this:"
   ]
  },
  {
   "cell_type": "code",
   "execution_count": 44,
   "metadata": {
    "collapsed": false
   },
   "outputs": [
    {
     "data": {
      "text/plain": [
       "[<matplotlib.lines.Line2D at 0x23c50cf58d0>]"
      ]
     },
     "execution_count": 44,
     "metadata": {},
     "output_type": "execute_result"
    },
    {
     "data": {
      "image/png": "[encoded data removed]",
      "text/plain": [
       "<matplotlib.figure.Figure at 0x23c50d5ac50>"
      ]
     },
     "metadata": {},
     "output_type": "display_data"
    }
   ],
   "source": [
    "xrange = np.arange(0,100,0.1)\n",
    "plt.plot(xrange, two_peak_model(xrange, 5, 0.1, -30, 70, 20, 0.1, 2))"
   ]
  },
  {
   "cell_type": "markdown",
   "metadata": {},
   "source": [
    "## Likelihood\n",
    "\n",
    "As noted above, this requires us to make statements about the noise in our system. We have characterized our system a bit and the noise seems to be primarily limited by shot noise. \n",
    "\n",
    "There are some subleties here, however. The shot noise is only on the photons that are actually detected, whereas there is also a readout noise on the detector of \"three electrons\" (according to the datasheet) per bin. Absent any other information, I assume this is gaussian noise. Moreover, the detector itself contributes a more or less fixed background (of around 1000 counts) on top of this noise. So, we'll include an additional term in the likelihood that includes this fixed CCD readout background plus associated noise.\n",
    "\n",
    "The likelihood is then the product of two terms: one is a Gaussian likelihood for the CCD background, and one is a Poisson likelihood for the actual photon signal. In each of these two terms, we subtract the contribution to the signal from the other term before we calculate that contribution to the likelihood. In other words, for the CCD background, we take the signal, subtract what we think is coming from the light entering the instrument --- which is the two_peak_model --- and then consider Gaussian noise on that residual bit. For the poisson noise, we subtract the CCD offset from the signal before we fit the poisson noise.\n",
    "\n",
    "I am not sure if this is the correct thing to do, because it means that if there is gaussian noise on the CCD, it still reduces the likelihood for the poisson contribution because we are subtracting only the background and not any noise. I will try to figure out if this is legit.\n",
    "\n",
    "Here, we will also switch to the (for now, redundant) parameterization in terms of $T$ and $m$, plus an offset $C_0$. For fitting a single spectrum, $T$ can be set to zero and the fit will be in terms of $C_0$ only."
   ]
  },
  {
   "cell_type": "code",
   "execution_count": 45,
   "metadata": {
    "collapsed": false
   },
   "outputs": [],
   "source": [
    "def two_peak_log_likelihood(y, x, amp1, amp2, T, m, C0, center2, width1, width2, light_background, ccd_background, ccd_stdev):\n",
    "    \"\"\"\n",
    "    Returns the log-likelihood calculated for the two-peak + CCD noise model.\n",
    "    See also: two_peak_model\n",
    "    \n",
    "    Parameters:\n",
    "    -----------\n",
    "    y : observed data value\n",
    "    x : corresponding wavelength or x-axis value\n",
    "    amp1 : amplitude of the broad SiV peak in the spectrum\n",
    "    amp2 : amplitude of the narrow calibration peak in the spectrum\n",
    "    T : The temperature of the sample\n",
    "    m : The linear scaling of the SiV peak position with temperature\n",
    "    C0 : The offset in the above linear scaling\n",
    "    center2 : The position of the calibration line\n",
    "    width1 : The width (FWHM) of the SiV line\n",
    "    width2 : The width (FWHM) of the calibration line\n",
    "    light_background : The contribution to the background from stray light,\n",
    "                       contributing shot noise\n",
    "    ccd_backgrond : The contribution to the background from CCD readout,\n",
    "                    contributing gaussian noise\n",
    "    ccd_stdev : The standard deviation on the gaussian CCD noise above\n",
    "    \"\"\"\n",
    "    # First, get the contribution from the light signal.\n",
    "    y_two_peak_model = two_peak_model(x, amp1, amp2, C0 + T*m - center2, center2, width1, width2, light_background)\n",
    "    # Calculate the contribution from the gaussian term\n",
    "    # To do this, subtract the prediction from the two-peak model to compare\n",
    "    # the predicted background ccd_background to the residuals from the\n",
    "    # two_peak_model. \n",
    "    likelihood_gauss = 1/(np.sqrt(2*np.pi*ccd_stdev**2))*np.exp(-1*(y - y_two_peak_model - ccd_background)**2/(2*ccd_stdev**2))\n",
    "    # Calculate the contribution from the poissonian term. Here, we subtract\n",
    "    # the ccd_background contribution so that we're only looking at shot-noise\n",
    "    # on the part of the signal that does not come from the ccd background\n",
    "    likehood_poisson = y_two_peak_model**(y-ccd_background)/sp.misc.factorial(y-ccd_background)*np.exp(-y_two_peak_model)\n",
    "    # Retrn the log-likelihood\n",
    "    return np.sum(np.log(likelihood_gauss) + np.log(likelihood_poisson))"
   ]
  }
 ],
 "metadata": {
  "kernelspec": {
   "display_name": "Python 3",
   "language": "python",
   "name": "python3"
  },
  "language_info": {
   "codemirror_mode": {
    "name": "ipython",
    "version": 3
   },
   "file_extension": ".py",
   "mimetype": "text/x-python",
   "name": "python",
   "nbconvert_exporter": "python",
   "pygments_lexer": "ipython3",
   "version": "3.5.1"
  }
 },
 "nbformat": 4,
 "nbformat_minor": 0
}
