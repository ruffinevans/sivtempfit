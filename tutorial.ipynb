{
 "cells": [
  {
   "cell_type": "markdown",
   "metadata": {},
   "source": [
    "# sivtempfit tutorial "
   ]
  },
  {
   "cell_type": "markdown",
   "metadata": {},
   "source": [
    "## Getting started\n",
    "First, import the package. If you need to download and install the package, please see the documentation on the [github page](https://github.com/p201-sp2016/sivtempfit)."
   ]
  },
  {
   "cell_type": "code",
   "execution_count": 1,
   "metadata": {
    "collapsed": false
   },
   "outputs": [],
   "source": [
    "%matplotlib inline\n",
    "import matplotlib\n",
    "import matplotlib.pyplot as plt\n",
    "import sivtempfit as stf\n",
    "import sivtempfit.io as io\n",
    "import sivtempfit.inferMC as mc\n",
    "import sivtempfit.model as model\n",
    "import emcee\n",
    "import numpy as np\n",
    "import pandas as pd\n",
    "import seaborn as sns"
   ]
  },
  {
   "cell_type": "markdown",
   "metadata": {},
   "source": [
    "## Import some data\n",
    "\n",
    "In general, you will have some experimental data. For the purposes of this tutorial, let's import some example data. The package includes support for data in a simple `[x, y]` format where `x` is a numpy array of the x values and `y` is a numpy array of the y values.\n",
    "\n",
    "The package also includes support for a `Spectrum` object, which is basically just a dataframe with a `metadata` variable bolted onto it, plus some json i/o utilities.\n",
    "\n",
    "We'll use such a `Spectrum` object in this tutorial. Let's import it using the `io` module."
   ]
  },
  {
   "cell_type": "code",
   "execution_count": 2,
   "metadata": {
    "collapsed": false
   },
   "outputs": [],
   "source": [
    "path_to_json = io.get_example_data_file_path(\"test_experimental_spectrum.json\")\n",
    "test_spectrum = io.load_Spectrum(path_to_json)"
   ]
  },
  {
   "cell_type": "markdown",
   "metadata": {},
   "source": [
    "Now, `simulated_spectrum` is a `Spectrum` object that has both data and metadata:"
   ]
  },
  {
   "cell_type": "code",
   "execution_count": 3,
   "metadata": {
    "collapsed": false
   },
   "outputs": [
    {
     "data": {
      "text/plain": [
       "{'Laser Frequency': '401.496 THz',\n",
       " 'Name': 'Example spectrum of an SiV plus a laser calibration line taken at 300K.'}"
      ]
     },
     "execution_count": 3,
     "metadata": {},
     "output_type": "execute_result"
    }
   ],
   "source": [
    "test_spectrum.metadata"
   ]
  },
  {
   "cell_type": "code",
   "execution_count": 13,
   "metadata": {
    "collapsed": false
   },
   "outputs": [
    {
     "data": {
      "text/html": [
       "<div>\n",
       "<table border=\"1\" class=\"dataframe\">\n",
       "  <thead>\n",
       "    <tr style=\"text-align: right;\">\n",
       "      <th></th>\n",
       "      <th>counts</th>\n",
       "      <th>wavelength</th>\n",
       "    </tr>\n",
       "  </thead>\n",
       "  <tbody>\n",
       "    <tr>\n",
       "      <th>0</th>\n",
       "      <td>1157</td>\n",
       "      <td>730.7841</td>\n",
       "    </tr>\n",
       "    <tr>\n",
       "      <th>1</th>\n",
       "      <td>1161</td>\n",
       "      <td>730.7931</td>\n",
       "    </tr>\n",
       "    <tr>\n",
       "      <th>10</th>\n",
       "      <td>1170</td>\n",
       "      <td>730.8741</td>\n",
       "    </tr>\n",
       "    <tr>\n",
       "      <th>100</th>\n",
       "      <td>1168</td>\n",
       "      <td>731.6841</td>\n",
       "    </tr>\n",
       "    <tr>\n",
       "      <th>1000</th>\n",
       "      <td>1543</td>\n",
       "      <td>739.7841</td>\n",
       "    </tr>\n",
       "    <tr>\n",
       "      <th>1001</th>\n",
       "      <td>1540</td>\n",
       "      <td>739.7931</td>\n",
       "    </tr>\n",
       "    <tr>\n",
       "      <th>1002</th>\n",
       "      <td>1562</td>\n",
       "      <td>739.8021</td>\n",
       "    </tr>\n",
       "    <tr>\n",
       "      <th>1003</th>\n",
       "      <td>1550</td>\n",
       "      <td>739.8111</td>\n",
       "    </tr>\n",
       "    <tr>\n",
       "      <th>1004</th>\n",
       "      <td>1539</td>\n",
       "      <td>739.8201</td>\n",
       "    </tr>\n",
       "    <tr>\n",
       "      <th>1005</th>\n",
       "      <td>1589</td>\n",
       "      <td>739.8291</td>\n",
       "    </tr>\n",
       "  </tbody>\n",
       "</table>\n",
       "</div>"
      ],
      "text/plain": [
       "      counts  wavelength\n",
       "0       1157    730.7841\n",
       "1       1161    730.7931\n",
       "10      1170    730.8741\n",
       "100     1168    731.6841\n",
       "1000    1543    739.7841\n",
       "1001    1540    739.7931\n",
       "1002    1562    739.8021\n",
       "1003    1550    739.8111\n",
       "1004    1539    739.8201\n",
       "1005    1589    739.8291"
      ]
     },
     "execution_count": 13,
     "metadata": {},
     "output_type": "execute_result"
    }
   ],
   "source": [
    "test_spectrum.data[:10]"
   ]
  },
  {
   "cell_type": "markdown",
   "metadata": {},
   "source": [
    "## Do some inference on this example data\n",
    "\n",
    "Let's visualize the example data:"
   ]
  },
  {
   "cell_type": "code",
   "execution_count": 5,
   "metadata": {
    "collapsed": false
   },
   "outputs": [
    {
     "data": {
      "text/plain": [
       "[<matplotlib.lines.Line2D at 0x9a76e10>]"
      ]
     },
     "execution_count": 5,
     "metadata": {},
     "output_type": "execute_result"
    },
    {
     "data": {
      "image/png": "[encoded data removed]",
      "text/plain": [
       "<matplotlib.figure.Figure at 0xacf0668>"
      ]
     },
     "metadata": {},
     "output_type": "display_data"
    }
   ],
   "source": [
    "plt.plot(test_spectrum.data['wavelength'], test_spectrum.data['counts'], \".\")"
   ]
  },
  {
   "cell_type": "markdown",
   "metadata": {},
   "source": [
    "We have a model for this function that includes two lorentzian peaks plus gaussian background noise. The model is described in the likelihood function: "
   ]
  },
  {
   "cell_type": "code",
   "execution_count": 6,
   "metadata": {
    "collapsed": false
   },
   "outputs": [
    {
     "name": "stdout",
     "output_type": "stream",
     "text": [
      "\n",
      "    Returns the log-likelihood calculated for the two-peak + CCD noise model.\n",
      "    See also: two_peak_model\n",
      "\n",
      "    Parameters:\n",
      "    -----------\n",
      "    x : wavelength or x-axis value\n",
      "    y : corresponding observed data value\n",
      "    amp1 : amplitude of the broad SiV peak in the spectrum\n",
      "    amp2 : amplitude of the narrow calibration peak in the spectrum\n",
      "    T : The temperature of the sample\n",
      "    m : The linear scaling of the SiV peak position with temperature\n",
      "    C0 : The offset in the above linear scaling\n",
      "    center2 : The position of the calibration line\n",
      "    width1 : The width (FWHM) of the SiV line\n",
      "    width2 : The width (FWHM) of the calibration line\n",
      "    light_background : The contribution to the background from stray light,\n",
      "                       contributing shot noise\n",
      "    ccd_backgrond : The contribution to the background from CCD readout,\n",
      "                    contributing gaussian noise\n",
      "    ccd_stdev : The standard deviation on the gaussian CCD noise\n",
      "\n",
      "    Optional Arguments:\n",
      "    -------------------\n",
      "    conv_range : How far out to go in convolution. Default is -1, which\n",
      "                 goes out to max([max(y), max(model_prediction)]) plus\n",
      "                 3 * sqrt of this max.\n",
      "    debug : if True, returns the convolution list, the convolution\n",
      "            matrix, the poisson matrix, the gaussian matrix, the\n",
      "            likelihood list, and the computed max_y. False by default,\n",
      "            in which case only the log-likelihood is returned.\n",
      "    test_norm: if True, tests to make sure that the gaussian and poisson\n",
      "               contributions are normalized. This is the default case.\n",
      "               If False, the function will run a little faster but will\n",
      "               not check this condition.\n",
      "    \n"
     ]
    }
   ],
   "source": [
    "print(model.two_peak_log_likelihood.__doc__)"
   ]
  },
  {
   "cell_type": "markdown",
   "metadata": {},
   "source": [
    "This likelihood function is the one used by the `emcee` sampler. To extract these parameters, we can use the included functionality of the `emcee` sampler to sample the likelihood. It begins by generating an `emcee` `sample_ball` object. This is normally done automatically in the course of evaluating `mc_likelihood_sampler` but can also be done manually for more fine-grained control. Here is an example of the guesses."
   ]
  },
  {
   "cell_type": "code",
   "execution_count": 7,
   "metadata": {
    "collapsed": false
   },
   "outputs": [
    {
     "data": {
      "text/plain": [
       "((2056.5,\n",
       "  2056.5,\n",
       "  669,\n",
       "  70,\n",
       "  2,\n",
       "  0.02,\n",
       "  64.025000000000006,\n",
       "  1024.4000000000001,\n",
       "  10),\n",
       " (1645.2, 1645.2, 3, 0.5, 2, 0.05, 64.025000000000006, 512.20000000000005, 10))"
      ]
     },
     "execution_count": 7,
     "metadata": {},
     "output_type": "execute_result"
    }
   ],
   "source": [
    "mc.generate_sample_ball(test_spectrum, 70, debug = True)"
   ]
  },
  {
   "cell_type": "markdown",
   "metadata": {},
   "source": [
    "If `debug` is set to false, a `sample_ball` object is generated that can be passed to the `mc_likelihood_sampler` command, but that's getting a little bit ahead of things. For more information, see the `generate_sample_ball` documentation."
   ]
  },
  {
   "cell_type": "markdown",
   "metadata": {},
   "source": [
    "In order to run the `emcee` sampler, simply run the `mc_likelihood_sampler` function which takes as mandatory arguments the data (in either `[x_array, y_array` form or in the form of a `Spectrum` object) and the expected position of the calibration peak. We can calculate this simply:"
   ]
  },
  {
   "cell_type": "code",
   "execution_count": 8,
   "metadata": {
    "collapsed": false
   },
   "outputs": [
    {
     "data": {
      "text/plain": [
       "730.93709999999999"
      ]
     },
     "execution_count": 8,
     "metadata": {},
     "output_type": "execute_result"
    }
   ],
   "source": [
    "calib_pos_guess = test_spectrum.data['wavelength'][np.argmax(test_spectrum.data['counts'])]\n",
    "calib_pos_guess"
   ]
  },
  {
   "cell_type": "markdown",
   "metadata": {},
   "source": [
    "Now, run the walker. This should take 5-10 minutes; if you want to speed it up, decrease the number of steps.\n",
    "\n",
    "This is quite slow just to evaluate 20 steps and is currently not very useful for analysis; at this stage, this is a proof-of-concept to show that everything runs. Future enhancements will be aimed at significantly improving the performance of the calculation of the likelihood function. Memory usage is also a significant problem and seems to depend significantly on the arguments passed to the likelihood function."
   ]
  },
  {
   "cell_type": "code",
   "execution_count": 11,
   "metadata": {
    "collapsed": false
   },
   "outputs": [
    {
     "name": "stdout",
     "output_type": "stream",
     "text": [
      "Wall time: 4min 19s\n"
     ]
    }
   ],
   "source": [
    "%time test_sampler = mc.mc_likelihood_sampler(test_spectrum, 10, nwalkers = 18, nsteps = 20)"
   ]
  },
  {
   "cell_type": "markdown",
   "metadata": {},
   "source": [
    "We can plot the joint marginal distribution of the parameters that we care most about: the center position of the two peaks and the width of the first peak."
   ]
  },
  {
   "cell_type": "code",
   "execution_count": 12,
   "metadata": {
    "collapsed": false
   },
   "outputs": [
    {
     "data": {
      "text/plain": [
       "<seaborn.axisgrid.PairGrid at 0xb3b82e8>"
      ]
     },
     "execution_count": 12,
     "metadata": {},
     "output_type": "execute_result"
    },
    {
     "data": {
      "image/png": "[encoded data removed]",
      "text/plain": [
       "<matplotlib.figure.Figure at 0xb879b38>"
      ]
     },
     "metadata": {},
     "output_type": "display_data"
    }
   ],
   "source": [
    "samples = test_sampler.chain\n",
    "# reshape the samples into a 1D array where the colums are m and b\n",
    "traces = samples.reshape(-1, 9).T\n",
    "# create a pandas DataFrame with labels.  This will come in handy \n",
    "# in a moment, when we start using seaborn to plot our results \n",
    "# (among other things, it saves us the trouble of typing in labels\n",
    "# for our plots)\n",
    "parameter_samples = pd.DataFrame({'C0': traces[2], 'C2': traces[3], 'w1': traces[4]})\n",
    "sns.pairplot(parameter_samples, markers='.')"
   ]
  }
 ],
 "metadata": {
  "kernelspec": {
   "display_name": "Python 3",
   "language": "python",
   "name": "python3"
  },
  "language_info": {
   "codemirror_mode": {
    "name": "ipython",
    "version": 3
   },
   "file_extension": ".py",
   "mimetype": "text/x-python",
   "name": "python",
   "nbconvert_exporter": "python",
   "pygments_lexer": "ipython3",
   "version": "3.5.1"
  }
 },
 "nbformat": 4,
 "nbformat_minor": 0
}
