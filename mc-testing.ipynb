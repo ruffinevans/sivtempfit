{
 "cells": [
  {
   "cell_type": "code",
   "execution_count": 1,
   "metadata": {
    "collapsed": true
   },
   "outputs": [],
   "source": [
    "%matplotlib inline\n",
    "import matplotlib\n",
    "import matplotlib.pyplot as plt\n",
    "import sivtempfit as stf\n",
    "import sivtempfit.io as io\n",
    "import sivtempfit.inferMC as mc\n",
    "import emcee\n",
    "import sivtempfit.model as model\n",
    "import numpy as np\n",
    "import scipy.stats as stats\n",
    "import seaborn as sns\n",
    "import pandas as pd"
   ]
  },
  {
   "cell_type": "code",
   "execution_count": 2,
   "metadata": {
    "collapsed": true
   },
   "outputs": [],
   "source": [
    "path_to_json = io.get_example_data_file_path(\"simulated_spectrum.json\")\n",
    "test_spectrum = io.load_Spectrum(path_to_json)"
   ]
  },
  {
   "cell_type": "code",
   "execution_count": 3,
   "metadata": {
    "collapsed": false
   },
   "outputs": [
    {
     "data": {
      "text/plain": [
       "((33.6339542069,\n",
       "  33.6339542069,\n",
       "  669,\n",
       "  70,\n",
       "  2,\n",
       "  0.02,\n",
       "  0.21816910569000003,\n",
       "  3.4907056910400005,\n",
       "  10),\n",
       " (26.907163365520002,\n",
       "  26.907163365520002,\n",
       "  3,\n",
       "  0.5,\n",
       "  2,\n",
       "  0.05,\n",
       "  0.21816910569000003,\n",
       "  1.7453528455200003,\n",
       "  10))"
      ]
     },
     "execution_count": 3,
     "metadata": {},
     "output_type": "execute_result"
    }
   ],
   "source": [
    "mc.generate_sample_ball(test_spectrum, 70, debug = True)"
   ]
  },
  {
   "cell_type": "markdown",
   "metadata": {},
   "source": [
    "Ok, let's debug it:"
   ]
  },
  {
   "cell_type": "code",
   "execution_count": 4,
   "metadata": {
    "collapsed": false
   },
   "outputs": [],
   "source": [
    "x = test_spectrum.data.values.T[1]\n",
    "y = test_spectrum.data.values.T[0]\n",
    "amp1, amp2, C0, center2, width1, width2, light_background, \\\n",
    "            ccd_background, ccd_stdev = [  4.95e+01, 3.50e+01, 6.69e+02, 6.90927784e+01, \n",
    "                                         2.97509484e+00, 1.59711767e-02, -1.51653532e-01, \n",
    "                                         3.65541083e+00, 2.46400782e+00]\n",
    "test_model = model.two_peak_log_likelihood(x, y, amp1, amp2, 0, 0, C0,\n",
    "                    center2, width1, width2, light_background, ccd_background,\n",
    "                    ccd_stdev, test_norm = False, debug = True)"
   ]
  },
  {
   "cell_type": "code",
   "execution_count": null,
   "metadata": {
    "collapsed": false
   },
   "outputs": [],
   "source": [
    "np.min(test_model[-1])"
   ]
  },
  {
   "cell_type": "code",
   "execution_count": null,
   "metadata": {
    "collapsed": false
   },
   "outputs": [],
   "source": [
    "stats.poisson.pmf(1, -10)"
   ]
  },
  {
   "cell_type": "code",
   "execution_count": null,
   "metadata": {
    "collapsed": false
   },
   "outputs": [],
   "source": [
    "model.two_peak_log_likelihood(x, y, amp1, amp2, 0, 0, C0,\n",
    "                    center2, width1, width2, light_background, ccd_background,\n",
    "                    ccd_stdev, test_norm = True)"
   ]
  },
  {
   "cell_type": "markdown",
   "metadata": {},
   "source": [
    "Ok, I made some improvements, so it should work now. Let's try running the sampler:"
   ]
  },
  {
   "cell_type": "code",
   "execution_count": null,
   "metadata": {
    "collapsed": false
   },
   "outputs": [],
   "source": [
    "%time test_sampler = mc.mc_likelihood_sampler(test_spectrum, 70, nwalkers = 18, nsteps = 10)"
   ]
  },
  {
   "cell_type": "markdown",
   "metadata": {},
   "source": [
    "This is insanely slow: ten steps takes about four minutes on my relatively beefy desktop. Now that we have a sampler object, however trivial, we can check out the trajectories."
   ]
  },
  {
   "cell_type": "code",
   "execution_count": null,
   "metadata": {
    "collapsed": false
   },
   "outputs": [],
   "source": [
    "fig, (ax_amp1, ax_amp2, ax_c0, ax_center2, ax_width1, ax_width2, ax_lb, ax_ccdb, ax_ccds) = plt.subplots(9)\n",
    "ax_amp1.set(ylabel='A1')\n",
    "ax_amp2.set(ylabel='A2')\n",
    "ax_c0.set(ylabel='CO')\n",
    "ax_center2.set(ylabel='C2')\n",
    "ax_width1.set(ylabel='W1')\n",
    "ax_width2.set(ylabel='W2')\n",
    "ax_lb.set(ylabel='LB')\n",
    "ax_ccdb.set(ylabel='CB')\n",
    "ax_ccds.set(ylabel='Cs')\n",
    "for i in range(9):\n",
    "    sns.tsplot(test_sampler.chain[i,:,0], ax=ax_amp1)\n",
    "    sns.tsplot(test_sampler.chain[i,:,1], ax=ax_amp2)\n",
    "    sns.tsplot(test_sampler.chain[i,:,2], ax=ax_c0)\n",
    "    sns.tsplot(test_sampler.chain[i,:,3], ax=ax_center2)\n",
    "    sns.tsplot(test_sampler.chain[i,:,4], ax=ax_width1)\n",
    "    sns.tsplot(test_sampler.chain[i,:,5], ax=ax_width2)\n",
    "    sns.tsplot(test_sampler.chain[i,:,6], ax=ax_lb)\n",
    "    sns.tsplot(test_sampler.chain[i,:,7], ax=ax_ccdb)\n",
    "    sns.tsplot(test_sampler.chain[i,:,8], ax=ax_ccds)"
   ]
  },
  {
   "cell_type": "code",
   "execution_count": null,
   "metadata": {
    "collapsed": false
   },
   "outputs": [],
   "source": [
    "test_sampler.chain?"
   ]
  },
  {
   "cell_type": "code",
   "execution_count": null,
   "metadata": {
    "collapsed": false
   },
   "outputs": [],
   "source": [
    "samples = test_sampler.chain\n",
    "# reshape the samples into a 1D array where the colums are m and b\n",
    "traces = samples.reshape(-1, 9).T\n",
    "# create a pandas DataFrame with labels.  This will come in handy \n",
    "# in a moment, when we start using seaborn to plot our results \n",
    "# (among other things, it saves us the trouble of typing in labels\n",
    "# for our plots)\n",
    "parameter_samples = pd.DataFrame({'C0': traces[2]-739, 'C2': traces[3], 'w1': traces[4]})\n",
    "sns.pairplot(parameter_samples, markers='.')"
   ]
  },
  {
   "cell_type": "code",
   "execution_count": null,
   "metadata": {
    "collapsed": false
   },
   "outputs": [],
   "source": [
    "print(test_spectrum.metadata['Description'])"
   ]
  },
  {
   "cell_type": "code",
   "execution_count": null,
   "metadata": {
    "collapsed": false
   },
   "outputs": [],
   "source": [
    "traces[2]-739"
   ]
  }
 ],
 "metadata": {
  "kernelspec": {
   "display_name": "Python 3",
   "language": "python",
   "name": "python3"
  },
  "language_info": {
   "codemirror_mode": {
    "name": "ipython",
    "version": 3
   },
   "file_extension": ".py",
   "mimetype": "text/x-python",
   "name": "python",
   "nbconvert_exporter": "python",
   "pygments_lexer": "ipython3",
   "version": "3.5.1"
  }
 },
 "nbformat": 4,
 "nbformat_minor": 0
}
